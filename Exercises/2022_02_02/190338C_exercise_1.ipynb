{
 "cells": [
  {
   "cell_type": "markdown",
   "metadata": {},
   "source": [
    "<h3>Name: K. D. S. D. Kuruppu</h3>\n",
    "<h3>Index no: 190338C</h3>"
   ]
  },
  {
   "cell_type": "code",
   "execution_count": 1,
   "metadata": {},
   "outputs": [
    {
     "name": "stdout",
     "output_type": "stream",
     "text": [
      "1 : 1\n",
      "2 : 4\n",
      "3 : 9\n",
      "4 : 16\n",
      "5 : 25\n"
     ]
    }
   ],
   "source": [
    "#1)\n",
    "for i in range(1, 6):\n",
    "  print(f\"{i} : {i**2}\")"
   ]
  },
  {
   "cell_type": "code",
   "execution_count": 2,
   "metadata": {},
   "outputs": [
    {
     "name": "stdout",
     "output_type": "stream",
     "text": [
      "1 : 1\n",
      "4 : 16\n"
     ]
    }
   ],
   "source": [
    "#2)\n",
    "import sympy\n",
    "\n",
    "for i in range(1, 6):\n",
    "  if not sympy.isprime(i):\n",
    "    print(f\"{i} : {i**2}\")"
   ]
  },
  {
   "cell_type": "code",
   "execution_count": 3,
   "metadata": {},
   "outputs": [
    {
     "name": "stdout",
     "output_type": "stream",
     "text": [
      "1 : 1\n",
      "2 : 4\n",
      "3 : 9\n",
      "4 : 16\n",
      "5 : 25\n"
     ]
    }
   ],
   "source": [
    "#3)\n",
    "squares = {i:i**2 for i in range(1,6)}\n",
    "\n",
    "for key in squares:\n",
    "  print(f\"{key} : {squares[key]}\")"
   ]
  },
  {
   "cell_type": "code",
   "execution_count": 4,
   "metadata": {},
   "outputs": [
    {
     "name": "stdout",
     "output_type": "stream",
     "text": [
      "1 : 1\n",
      "4 : 16\n"
     ]
    }
   ],
   "source": [
    "#4)\n",
    "squares = {i:i**2 for i in range(1,6) if not sympy.isprime(i)}\n",
    "\n",
    "for key in squares:\n",
    "  print(f\"{key} : {squares[key]}\")"
   ]
  },
  {
   "cell_type": "code",
   "execution_count": 5,
   "metadata": {},
   "outputs": [
    {
     "name": "stdout",
     "output_type": "stream",
     "text": [
      "[[ 9 12 15  9]\n",
      " [25 32 39 19]\n",
      " [41 52 63 29]]\n"
     ]
    }
   ],
   "source": [
    "#5)\n",
    "#a)\n",
    "import numpy as np\n",
    "\n",
    "m1 = np.array([[1,2],[3,4],[5,6]])\n",
    "m2 = np.array([[7,8,9,1],[1,2,3,4]])\n",
    "\n",
    "ans = np.matmul(m1, m2) #A@B\n",
    "\n",
    "print(ans)"
   ]
  },
  {
   "cell_type": "code",
   "execution_count": 6,
   "metadata": {},
   "outputs": [
    {
     "name": "stdout",
     "output_type": "stream",
     "text": [
      "[[ 3  4]\n",
      " [15 16]\n",
      " [15  6]]\n"
     ]
    }
   ],
   "source": [
    "#b)\n",
    "A = np.array([[1,2],[3,4],[5,6]])\n",
    "B = np.array([[3,2],[5,4],[3,1]])\n",
    "\n",
    "ans2 = np.multiply(A, B) \n",
    "\n",
    "print(ans2)"
   ]
  },
  {
   "cell_type": "code",
   "execution_count": 7,
   "metadata": {},
   "outputs": [
    {
     "name": "stdout",
     "output_type": "stream",
     "text": [
      "The original array:\n",
      "[[2 7 1 7 2 4 8]\n",
      " [9 5 6 1 9 3 7]\n",
      " [0 8 5 4 5 2 1]\n",
      " [1 3 7 9 0 6 8]\n",
      " [6 3 4 4 5 5 7]]\n",
      "\n",
      "The slice:\n",
      "[[0 8]\n",
      " [1 3]\n",
      " [6 3]]\n"
     ]
    }
   ],
   "source": [
    "#6)\n",
    "arr1 = np.random.randint(0, 10, (5,7))\n",
    "\n",
    "print(f\"The original array:\\n{arr1}\\n\")\n",
    "print(f\"The slice:\\n{arr1[[2,3,4], :][:, [0,1]]}\")"
   ]
  },
  {
   "cell_type": "code",
   "execution_count": 8,
   "metadata": {},
   "outputs": [
    {
     "name": "stdout",
     "output_type": "stream",
     "text": [
      "A:\n",
      "[[1 2 3]\n",
      " [4 5 6]]\n",
      "B:\n",
      "5\n",
      "A+B:\n",
      "[[ 6  7  8]\n",
      " [ 9 10 11]]\n",
      "\n",
      "A:\n",
      "[[1 2 3]\n",
      " [4 5 6]]\n",
      "B:\n",
      "[10 20 30]\n",
      "A+B:\n",
      "[[11 22 33]\n",
      " [14 25 36]]\n",
      "\n",
      "A:\n",
      "[[1 2 3]\n",
      " [4 5 6]]\n",
      "B:\n",
      "[[10]\n",
      " [20]]\n",
      "A+B:\n",
      "[[11 12 13]\n",
      " [24 25 26]]\n",
      "\n"
     ]
    }
   ],
   "source": [
    "#7)\n",
    "A = np.array([[1,2,3],[4,5,6]])\n",
    "B = 5\n",
    "C = A + B # a single value being broadcasted over an array\n",
    "print(f\"A:\\n{A}\\nB:\\n{B}\")\n",
    "print(f\"A+B:\\n{C}\\n\")\n",
    "\n",
    "B = np.array([10,20,30])\n",
    "D = A + B # a single row vector being broadcasted over an array\n",
    "print(f\"A:\\n{A}\\nB:\\n{B}\")\n",
    "print(f\"A+B:\\n{D}\\n\")\n",
    "\n",
    "B = np.array([[10],[20]])\n",
    "E = A + B # a single column vector being broadcasted over an array\n",
    "print(f\"A:\\n{A}\\nB:\\n{B}\")\n",
    "print(f\"A+B:\\n{E}\\n\")"
   ]
  },
  {
   "cell_type": "code",
   "execution_count": 9,
   "metadata": {},
   "outputs": [
    {
     "name": "stdout",
     "output_type": "stream",
     "text": [
      "x:\n",
      "[[0.]\n",
      " [1.]\n",
      " [2.]\n",
      " [3.]\n",
      " [4.]\n",
      " [5.]\n",
      " [6.]\n",
      " [7.]\n",
      " [8.]\n",
      " [9.]]\n",
      "\n",
      "X:\n",
      "[[0. 1.]\n",
      " [1. 1.]\n",
      " [2. 1.]\n",
      " [3. 1.]\n",
      " [4. 1.]\n",
      " [5. 1.]\n",
      " [6. 1.]\n",
      " [7. 1.]\n",
      " [8. 1.]\n",
      " [9. 1.]]\n"
     ]
    }
   ],
   "source": [
    "#8)\n",
    "#a)\n",
    "m, c = 2 , -4\n",
    "N = 10\n",
    "x = np.linspace (0 , N-1, N).reshape(N, 1)\n",
    "sigma = 10\n",
    "y = m*x + c + np.random.normal(0, sigma, (N, 1 ))\n",
    "\n",
    "X = np.append(x, np.ones((N, 1)), axis=1)\n",
    "\n",
    "print(f\"x:\\n{x}\\n\")\n",
    "print(f\"X:\\n{X}\")"
   ]
  },
  {
   "cell_type": "code",
   "execution_count": 10,
   "metadata": {},
   "outputs": [
    {
     "name": "stdout",
     "output_type": "stream",
     "text": [
      "Answer:\n",
      "[[ 1.41018663]\n",
      " [-1.4762459 ]]\n"
     ]
    }
   ],
   "source": [
    "#b)\n",
    "ans = np.linalg.inv(X.T @ X) @ X.T @ y\n",
    "print(f\"Answer:\\n{ans}\")"
   ]
  },
  {
   "cell_type": "code",
   "execution_count": 11,
   "metadata": {},
   "outputs": [
    {
     "name": "stdout",
     "output_type": "stream",
     "text": [
      "Square root of 64: 8.0\n",
      "Square root of 75: 8.660254037844386\n",
      "Square root of 100: 10.0\n",
      "Square root of 1600: 40.0\n"
     ]
    }
   ],
   "source": [
    "#9)\n",
    "import math\n",
    "\n",
    "def sqrt(x):\n",
    "    if 1 <= x <= 100:\n",
    "        sqrt_x = (-190/(x+20) + 10)\n",
    "    elif x > 100:\n",
    "        n = math.ceil( math.floor(np.log10(x)) / 2 )\n",
    "        a = x / (10**(2*n))\n",
    "\n",
    "        sqrt_x = (-190/(a+20) + 10) * (10**n)\n",
    "    elif x < 1:\n",
    "        n = math.floor( math.floor(np.log10(x)) / 2 )\n",
    "        a = x / (10**(2*n))\n",
    "\n",
    "        sqrt_x = (-190/(a+20) + 10) * (10**n)\n",
    "    \n",
    "    num_iter = 10\n",
    "\n",
    "    for i in range(num_iter):\n",
    "        sqrt_x = sqrt_x - ( ( sqrt_x**2 - x ) / (2*sqrt_x) )\n",
    "    \n",
    "    return sqrt_x\n",
    "\n",
    "print(f\"Square root of 64: {sqrt(64)}\")\n",
    "print(f\"Square root of 75: {sqrt(75)}\")\n",
    "print(f\"Square root of 100: {sqrt(100)}\")\n",
    "print(f\"Square root of 1600: {sqrt(1600)}\")\n",
    "\n"
   ]
  },
  {
   "cell_type": "code",
   "execution_count": 12,
   "metadata": {},
   "outputs": [],
   "source": [
    "#10)\n",
    "import cv2 as cv\n",
    "\n",
    "im = cv.imread(\"Images\\gal_gaussian.png\")\n",
    "filter_im = cv.GaussianBlur(im, (5,5), 0)\n",
    "\n",
    "cv.namedWindow('Image', cv.WINDOW_AUTOSIZE)\n",
    "cv.imshow('Image', im)\n",
    "cv.waitKey(0)\n",
    "cv.imshow('Image', filter_im)\n",
    "cv.waitKey(0)\n",
    "cv.destroyAllWindows()"
   ]
  },
  {
   "cell_type": "code",
   "execution_count": null,
   "metadata": {},
   "outputs": [],
   "source": [
    "#11)\n",
    "im = cv.imread(\"Images\\gal_sandp.png\")\n",
    "filter_im = cv.medianBlur(im, 5)\n",
    "\n",
    "cv.namedWindow('Salt-and-Paper noise image', cv.WINDOW_AUTOSIZE)\n",
    "cv.imshow('Salt-and-Paper noise image', im)\n",
    "cv.waitKey(0)\n",
    "cv.imshow('Salt-and-Paper noise image', filter_im)\n",
    "cv.waitKey(0)\n",
    "cv.destroyAllWindows()"
   ]
  },
  {
   "cell_type": "code",
   "execution_count": null,
   "metadata": {},
   "outputs": [],
   "source": [
    "#12)\n",
    "gray_img = np.zeros((40, 60), dtype=\"uint8\")\n",
    "\n",
    "cv.namedWindow('Gray Image', cv.WINDOW_NORMAL)\n",
    "cv.imshow('Gray Image', gray_img)\n",
    "cv.waitKey(0)\n",
    "\n",
    "gray_img[:20,30:60] += 125\n",
    "\n",
    "cv.imshow('Gray Image', gray_img)\n",
    "cv.waitKey(0)\n",
    "cv.destroyAllWindows()"
   ]
  },
  {
   "cell_type": "code",
   "execution_count": null,
   "metadata": {},
   "outputs": [],
   "source": [
    "#13)\n",
    "colour_img = np.ones((40,60,3), dtype=\"float64\")\n",
    "colour_img[:,:,0] = 0.23 \n",
    "colour_img[:,:,1] = 0.48 \n",
    "colour_img[:,:,2] = 0.34  \n",
    "\n",
    "cv.namedWindow('Colour Image', cv.WINDOW_NORMAL)\n",
    "cv.imshow('Colour Image', colour_img) #Amazon colour\n",
    "cv.waitKey(0)\n",
    "\n",
    "colour_img[20:40,0:30,0] = 0.85\n",
    "colour_img[20:40,0:30,1] = 0.09\n",
    "colour_img[20:40,0:30,2] = 0.52\n",
    "\n",
    "cv.imshow('Colour Image', colour_img) #Amazon colour\n",
    "cv.waitKey(0)\n",
    "cv.destroyAllWindows()"
   ]
  },
  {
   "cell_type": "code",
   "execution_count": null,
   "metadata": {},
   "outputs": [],
   "source": [
    "#14)\n",
    "tom_img = cv.imread(\"Images\\\\tom_dark.jpg\")\n",
    "\n",
    "cv.namedWindow('Tom Image', cv.WINDOW_AUTOSIZE)\n",
    "cv.imshow('Tom Image', tom_img)\n",
    "cv.waitKey(0) \n",
    "\n",
    "tom_img += 50\n",
    "\n",
    "cv.imshow('Tom Image', tom_img)\n",
    "cv.waitKey(0)\n",
    "cv.destroyAllWindows()"
   ]
  }
 ],
 "metadata": {
  "interpreter": {
   "hash": "1a5cba86672751a5ab1c14f7a21f0ac9ca65aa2378dad6a738cb62feadaa9a6f"
  },
  "kernelspec": {
   "display_name": "Python 3.9.10 64-bit ('en2550': venv)",
   "language": "python",
   "name": "python3"
  },
  "language_info": {
   "codemirror_mode": {
    "name": "ipython",
    "version": 3
   },
   "file_extension": ".py",
   "mimetype": "text/x-python",
   "name": "python",
   "nbconvert_exporter": "python",
   "pygments_lexer": "ipython3",
   "version": "3.9.10"
  },
  "orig_nbformat": 4
 },
 "nbformat": 4,
 "nbformat_minor": 2
}
